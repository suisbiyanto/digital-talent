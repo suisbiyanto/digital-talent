{
 "cells": [
  {
   "cell_type": "markdown",
   "metadata": {},
   "source": [
    "Nama: Suisbiyanto Prasetya\n",
    "# Tugas Word Count\n",
    "Diberikan sebuah paragraf, hitunglah banyak kemunculan masing-masing kata."
   ]
  },
  {
   "cell_type": "markdown",
   "metadata": {},
   "source": [
    "hints: Gunakan Dictionary dalam menyimpan word count. Gunakan kata sebagai key, dan jumlah kemunculan sebagai value"
   ]
  },
  {
   "cell_type": "code",
   "execution_count": 75,
   "metadata": {},
   "outputs": [
    {
     "name": "stdout",
     "output_type": "stream",
     "text": [
      "Barcelona berhasil merebut posisi puncak klasemen La Liga Spanyol seusai menang 4-2 atas Sevilla pada pertandingan pekan kesembilan di Stadion Camp Nou, Sabtu (20/10/2018) atau Minggu dini hari WIB. Barcelona membuka keunggulan pada menit ke-2 melalui gol yang dicetak oleh Philippe Coutinho. Lionel Messi menggandakan keunggulan Barcelona, 10 menit berselang.  Namun, nahas bagi Barcelona, karena Messi harus ditarik keluar pada menit ke-26 setelah mengalami cedera. Tanpa Messi, skor 2-0 bertahan hingga babak pertama berakhir.\n",
      "===========================================\n",
      "['barcelona', 'berhasil', 'merebut', 'posisi', 'puncak', 'klasemen', 'la', 'liga', 'spanyol', 'seusai', 'menang', 'atas', 'sevilla', 'pada', 'pertandingan', 'pekan', 'kesembilan', 'di', 'stadion', 'camp', 'nou', 'sabtu', 'atau', 'minggu', 'dini', 'hari', 'wib', 'barcelona', 'membuka', 'keunggulan', 'pada', 'menit', 'ke', 'melalui', 'gol', 'yang', 'dicetak', 'oleh', 'philippe', 'coutinho', 'lionel', 'messi', 'menggandakan', 'keunggulan', 'barcelona', 'menit', 'berselang', 'namun', 'nahas', 'bagi', 'barcelona', 'karena', 'messi', 'harus', 'ditarik', 'keluar', 'pada', 'menit', 'ke', 'setelah', 'mengalami', 'cedera', 'tanpa', 'messi', 'skor', 'bertahan', 'hingga', 'babak', 'pertama', 'berakhir']\n",
      "====================HASIL=======================\n",
      "pada : 3\n",
      "posisi : 1\n",
      "berselang : 1\n",
      "liga : 1\n",
      "hari : 1\n",
      "messi : 3\n",
      "sevilla : 1\n",
      "mengalami : 1\n",
      "dini : 1\n",
      "keunggulan : 2\n",
      "puncak : 1\n",
      "merebut : 1\n",
      "kesembilan : 1\n",
      "pertandingan : 1\n",
      "gol : 1\n",
      "menit : 3\n",
      "stadion : 1\n",
      "la : 1\n",
      "setelah : 1\n",
      "di : 1\n",
      "harus : 1\n",
      "menang : 1\n",
      "dicetak : 1\n",
      "cedera : 1\n",
      "ditarik : 1\n",
      "bertahan : 1\n",
      "bagi : 1\n",
      "berakhir : 1\n",
      "sabtu : 1\n",
      "skor : 1\n",
      "philippe : 1\n",
      "hingga : 1\n",
      "spanyol : 1\n",
      "menggandakan : 1\n",
      "babak : 1\n",
      "berhasil : 1\n",
      "nahas : 1\n",
      "klasemen : 1\n",
      "nou : 1\n",
      "atas : 1\n",
      "pekan : 1\n",
      "atau : 1\n",
      "lionel : 1\n",
      "minggu : 1\n",
      "karena : 1\n",
      "wib : 1\n",
      "ke : 2\n",
      "melalui : 1\n",
      "camp : 1\n",
      "barcelona : 4\n",
      "coutinho : 1\n",
      "keluar : 1\n",
      "yang : 1\n",
      "pertama : 1\n",
      "namun : 1\n",
      "membuka : 1\n",
      "seusai : 1\n",
      "oleh : 1\n",
      "tanpa : 1\n"
     ]
    }
   ],
   "source": [
    "jumlah = {}\n",
    "paragraf = \"Barcelona berhasil merebut posisi puncak klasemen La Liga Spanyol seusai menang 4-2 atas Sevilla pada pertandingan pekan kesembilan di Stadion Camp Nou, Sabtu (20/10/2018) atau Minggu dini hari WIB. Barcelona membuka keunggulan pada menit ke-2 melalui gol yang dicetak oleh Philippe Coutinho. Lionel Messi menggandakan keunggulan Barcelona, 10 menit berselang.  Namun, nahas bagi Barcelona, karena Messi harus ditarik keluar pada menit ke-26 setelah mengalami cedera. Tanpa Messi, skor 2-0 bertahan hingga babak pertama berakhir.\"\n",
    "print(paragraf)\n",
    "\n",
    "kecil = paragraf.lower()        # menjadikan huruf kecil semua kalimat\n",
    "hapus = kecil.replace('.','')   # menghapus titik\n",
    "hapus = hapus.replace(',','')   # menghapus koma\n",
    "hapus = hapus.replace(\"(20/10/2018)\",'')   # menghapus tanggal\n",
    "hapus = hapus.replace('4-2','')\n",
    "hapus = hapus.replace('2-0','')\n",
    "hapus = hapus.replace('10','')\n",
    "hapus = hapus.replace('-26','')\n",
    "hapus = hapus.replace('-2','')\n",
    "kalimat = hapus.split()\n",
    "\n",
    "print(\"===========================================\")\n",
    "print(kalimat)\n",
    "\n",
    "for kata in kalimat:\n",
    "    hitung = jumlah.get(kata,0)\n",
    "    jumlah[kata] = hitung + 1\n",
    "     \n",
    "frequency = jumlah.keys()\n",
    "print(\"====================HASIL=======================\") \n",
    "for words in frequency:\n",
    "    print words, \":\", jumlah[words]"
   ]
  },
  {
   "cell_type": "code",
   "execution_count": null,
   "metadata": {},
   "outputs": [],
   "source": []
  }
 ],
 "metadata": {
  "kernelspec": {
   "display_name": "Python 2",
   "language": "python",
   "name": "python2"
  },
  "language_info": {
   "codemirror_mode": {
    "name": "ipython",
    "version": 2
   },
   "file_extension": ".py",
   "mimetype": "text/x-python",
   "name": "python",
   "nbconvert_exporter": "python",
   "pygments_lexer": "ipython2",
   "version": "2.7.10"
  }
 },
 "nbformat": 4,
 "nbformat_minor": 2
}
