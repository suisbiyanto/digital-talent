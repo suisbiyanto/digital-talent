{
 "cells": [
  {
   "cell_type": "code",
   "execution_count": 1,
   "metadata": {},
   "outputs": [
    {
     "name": "stdout",
     "output_type": "stream",
     "text": [
      "[54, 91, 10, 15, 93, 26, 88, 65, 49, 26, 92, 24, 15, 98, 38, 55, 54, 17, 2, 97, 2, 10, 20, 5, 49, 57, 23, 45, 47, 53, 79, 52, 90, 38, 70, 38, 24, 71, 28, 10, 8, 22, 85, 13, 79, 2, 73, 62, 90, 45, 74, 10, 51, 9, 68, 83, 82, 33, 24, 99, 65, 65, 18, 99, 54, 46, 62, 55, 91, 88, 40, 5, 1, 11, 57, 67, 51, 36, 24, 53, 43, 39, 40, 49, 57, 97, 98, 81, 55, 23, 92, 16, 93, 91, 11, 81, 49, 10, 50, 20, 25, 62, 39, 93, 74, 24, 70, 57, 44, 88, 21, 83, 89, 43, 70, 28, 40, 23, 73, 44, 85, 49, 18, 52, 15, 9, 22, 77, 32, 14, 98, 85, 86, 74, 59, 55, 37, 35, 84, 83, 66, 87, 82, 87, 50, 3, 68, 53, 88, 11, 78, 46, 88, 18, 66, 47, 40, 70, 92, 64, 18, 40, 80, 99, 62, 23, 21, 86, 30, 22, 47, 52, 72, 79, 25, 11, 48, 91, 17, 2, 17, 43, 52, 1, 46, 26, 34, 88, 71, 94, 2, 79, 40, 17, 41, 74, 83, 74, 13, 33, 36, 34, 23, 91, 82, 50, 14, 62, 5, 59, 43, 73, 26, 19, 90, 23, 78, 43, 36, 21, 59, 92, 23, 89, 59, 46, 48, 16, 18, 44, 57, 19, 53, 20, 12, 70, 43, 92, 45, 76, 86, 98, 12, 34, 56, 33, 89, 86, 19, 6]\n"
     ]
    }
   ],
   "source": [
    "import random\n",
    "\n",
    "# GENERATE RANDOM\n",
    "nilaiTugas = []\n",
    "for i in range(250):\n",
    "    nilaiTugas.append(random.randrange(1,100,1))\n",
    "\n",
    "print(nilaiTugas)\n",
    "\n",
    "# TAMPILKAN:\n",
    "# ganjil\n",
    "# nilai > 70\n",
    "# standar deviasi\n",
    "# maksimum\n",
    "# minimum\n",
    "# modus"
   ]
  },
  {
   "cell_type": "code",
   "execution_count": null,
   "metadata": {},
   "outputs": [],
   "source": []
  }
 ],
 "metadata": {
  "kernelspec": {
   "display_name": "Python 2",
   "language": "python",
   "name": "python2"
  },
  "language_info": {
   "codemirror_mode": {
    "name": "ipython",
    "version": 2
   },
   "file_extension": ".py",
   "mimetype": "text/x-python",
   "name": "python",
   "nbconvert_exporter": "python",
   "pygments_lexer": "ipython2",
   "version": "2.7.10"
  }
 },
 "nbformat": 4,
 "nbformat_minor": 2
}
