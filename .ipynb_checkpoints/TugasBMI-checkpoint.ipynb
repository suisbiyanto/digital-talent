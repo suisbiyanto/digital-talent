{
 "cells": [
  {
   "cell_type": "markdown",
   "metadata": {},
   "source": [
    "Nama : Suisbiyanto Prasetya"
   ]
  },
  {
   "cell_type": "markdown",
   "metadata": {},
   "source": [
    "# TUGAS BMI\n",
    "Body Mass Index (BMI) menentukan sebuah keidealan berat badan terhadap tinggi badan. Berikut adalah formula dari BMI : \n"
   ]
  },
  {
   "cell_type": "markdown",
   "metadata": {},
   "source": [
    "BMI = weight (kg) ÷ height^2 (m^2)\n",
    "\n",
    "Berikut adalah kategorisasi BMI"
   ]
  },
  {
   "cell_type": "raw",
   "metadata": {},
   "source": [
    "# BMI\t               | # Kategori BMI\t\n",
    "-----------------------------------------------------\n",
    "Kurang dari 15\t       | Very severely underweight\t\n",
    "Diantara 15 dan 16\t   | Severely underweight\t\n",
    "Diantara 16 dan 18.5   | Underweight\t\n",
    "Diantara 18.5 dan 25   | Normal (healthy weight)\t\n",
    "Diantara 25 dan 30\t   | Overweight\t\n",
    "Diantara 30 dan 35\t   | Moderately obese\t\n",
    "Diantara 35 dan 40\t   | Severely obese\t\n",
    "Over 40\t               | Very severely obese"
   ]
  },
  {
   "cell_type": "markdown",
   "metadata": {},
   "source": [
    "Buatlah sebuah program yang memiliki dua variabel berat badan dengan satuan KG, dan tinggi badan dengan satuan CM, kemudian keluaran dari program adalah Kategori BMI"
   ]
  },
  {
   "cell_type": "code",
   "execution_count": 1,
   "metadata": {
    "scrolled": true
   },
   "outputs": [
    {
     "name": "stdout",
     "output_type": "stream",
     "text": [
      "('Berat=', 60.0, 'KG')\n",
      "('Tinggi=', 140.0, 'CM')\n",
      "('Anda mempunyai index BMI', 30.612244897959187)\n",
      "Berat badan anda masuk kategori :\n",
      "Moderately obese\n"
     ]
    }
   ],
   "source": [
    "berat=60.0\n",
    "tinggi=140.0\n",
    "print('Berat=', berat ,'KG')\n",
    "print('Tinggi=', tinggi , 'CM')\n",
    "\n",
    "bmi=berat/((tinggi/100)**2)\n",
    "print('Anda mempunyai index BMI', bmi)\n",
    "print(\"Berat badan anda masuk kategori :\")\n",
    "if bmi<15.0:\n",
    "    print (\"Very severely underweight\")\n",
    "elif 15.0<bmi<16.0:\n",
    "    print (\"Severely underweight\")\n",
    "elif 16.0<bmi<18.5:\n",
    "    print (\"Underweight\")\n",
    "elif 18.5<bmi<25.0:\n",
    "    print (\"Normal (healthy weight)\")\n",
    "elif 25.0<bmi<30.0:\n",
    "    print (\"Overweight\")\n",
    "elif 30.0<bmi<35.0:\n",
    "    print (\"Moderately obese\")\n",
    "elif 35.0<bmi<40.0:\n",
    "    print (\"Severely obese\")\n",
    "else:\n",
    "    print (\"Very Severely obese\")"
   ]
  },
  {
   "cell_type": "code",
   "execution_count": null,
   "metadata": {},
   "outputs": [],
   "source": []
  }
 ],
 "metadata": {
  "kernelspec": {
   "display_name": "Python 2",
   "language": "python",
   "name": "python2"
  },
  "language_info": {
   "codemirror_mode": {
    "name": "ipython",
    "version": 2
   },
   "file_extension": ".py",
   "mimetype": "text/x-python",
   "name": "python",
   "nbconvert_exporter": "python",
   "pygments_lexer": "ipython2",
   "version": "2.7.10"
  }
 },
 "nbformat": 4,
 "nbformat_minor": 2
}
